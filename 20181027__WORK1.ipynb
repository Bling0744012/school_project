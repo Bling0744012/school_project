{
 "cells": [
  {
   "cell_type": "code",
   "execution_count": null,
   "metadata": {},
   "outputs": [],
   "source": [
    "import os\n",
    "import urllib.request\n",
    "\n",
    "\n",
    "__all__ = [\"download\"]\n",
    "\n",
    "\n",
    "def download_files(bucket_path, file_list, download_path):\n",
    "    \"\"\"\n",
    "    Provide path to s3 bucket, download a file list to download path\n",
    "    \"\"\"\n",
    "    if not os.path.isdir(download_path):\n",
    "        os.makedirs(download_path)\n",
    "    for f in file_list:\n",
    "        # check if file already exists\n",
    "        file_path = os.path.join(download_path, f)\n",
    "        if os.path.isfile(file_path):\n",
    "            print ('File \"%s\" already exists' %f)\n",
    "        else:\n",
    "            print ('Downloading \"%s\" ...' % f)\n",
    "            urllib.request.urlretrieve(bucket_path + f, file_path)\n",
    "            print ('Done')\n",
    "\n",
    "\n",
    "def download(file_list=[]):\n",
    "    \"\"\"\n",
    "    Downloads files from AWS S3 repository\n",
    "    Here are all avialble dataset from the repository\n",
    "    file_list=[\"yelp_academic_dataset_business.pickle\"\n",
    "               \"yelp_academic_dataset_review.pickle\",\n",
    "               \"yelp_academic_dataset_user.pickle\",\n",
    "               \"yelp_academic_dataset_checkin.pickle\",\n",
    "               \"yelp_academic_dataset_tip.pickle\"]\n",
    "    \"\"\"\n",
    "    if file_list == []:\n",
    "        print (\"Providiing empty file_list, no download...\")\n",
    "    else:\n",
    "        bucket_path = \"https://s3-us-west-2.amazonaws.com/science-of-science-bucket/yelp_academic_dataset/\"\n",
    "        current_path = os.path.dirname(os.path.abspath(\"/\"))\n",
    "        download_path = \"/Users/UID/BIGDATA/Yelp Analysis\"\n",
    "        download_files(bucket_path, file_list, download_path)\n"
   ]
  },
  {
   "cell_type": "code",
   "execution_count": null,
   "metadata": {},
   "outputs": [],
   "source": [
    "download(file_list=[\"yelp_academic_dataset_business.pickle\",\n",
    "                              \"yelp_academic_dataset_review.pickle\",\n",
    "                              \"yelp_academic_dataset_user.pickle\",\n",
    "                              \"yelp_academic_dataset_checkin.pickle\",\n",
    "                              \"yelp_academic_dataset_tip.pickle\"])"
   ]
  },
  {
   "cell_type": "code",
   "execution_count": 5,
   "metadata": {},
   "outputs": [],
   "source": [
    "import pandas as pd\n",
    "review = pd.read_pickle('C:/Users/UID/BIGDATA/Yelp Analysis/yelp_academic_dataset_business.pickle')\n",
    "out = review.to_json(orient='records')[1:-1].replace('},{', '} {')"
   ]
  },
  {
   "cell_type": "code",
   "execution_count": 6,
   "metadata": {},
   "outputs": [
    {
     "data": {
      "text/plain": [
       "61184"
      ]
     },
     "execution_count": 6,
     "metadata": {},
     "output_type": "execute_result"
    }
   ],
   "source": [
    "data = []\n",
    "for i in review.index:\n",
    "    d = {}\n",
    "    for j in review.columns:\n",
    "        d[j] = review[j][i]\n",
    "    data.append(d)\n",
    "len(data)"
   ]
  },
  {
   "cell_type": "code",
   "execution_count": 7,
   "metadata": {},
   "outputs": [
    {
     "data": {
      "text/plain": [
       "Index(['attributes', 'business_id', 'categories', 'city', 'full_address',\n",
       "       'hours', 'latitude', 'longitude', 'name', 'neighborhoods', 'open',\n",
       "       'review_count', 'stars', 'state', 'type'],\n",
       "      dtype='object')"
      ]
     },
     "execution_count": 7,
     "metadata": {},
     "output_type": "execute_result"
    }
   ],
   "source": [
    "review.columns"
   ]
  },
  {
   "cell_type": "code",
   "execution_count": 9,
   "metadata": {},
   "outputs": [
    {
     "ename": "ModuleNotFoundError",
     "evalue": "No module named 'elasticsearch'",
     "output_type": "error",
     "traceback": [
      "\u001b[1;31m---------------------------------------------------------------------------\u001b[0m",
      "\u001b[1;31mModuleNotFoundError\u001b[0m                       Traceback (most recent call last)",
      "\u001b[1;32m<ipython-input-9-8015a1f92a53>\u001b[0m in \u001b[0;36m<module>\u001b[1;34m()\u001b[0m\n\u001b[1;32m----> 1\u001b[1;33m \u001b[1;32mfrom\u001b[0m \u001b[0melasticsearch\u001b[0m \u001b[1;32mimport\u001b[0m \u001b[0mElasticsearch\u001b[0m\u001b[1;33m\u001b[0m\u001b[0m\n\u001b[0m\u001b[0;32m      2\u001b[0m \u001b[0mes\u001b[0m \u001b[1;33m=\u001b[0m \u001b[0mElasticsearch\u001b[0m\u001b[1;33m(\u001b[0m\u001b[1;33m)\u001b[0m\u001b[1;33m\u001b[0m\u001b[0m\n\u001b[0;32m      3\u001b[0m \u001b[1;33m\u001b[0m\u001b[0m\n\u001b[0;32m      4\u001b[0m \u001b[1;32mimport\u001b[0m \u001b[0mjson\u001b[0m\u001b[1;33m\u001b[0m\u001b[0m\n\u001b[0;32m      5\u001b[0m \u001b[1;33m\u001b[0m\u001b[0m\n",
      "\u001b[1;31mModuleNotFoundError\u001b[0m: No module named 'elasticsearch'"
     ]
    }
   ],
   "source": [
    "from elasticsearch import Elasticsearch \n",
    "es = Elasticsearch()\n",
    "\n",
    "import json\n",
    "\n",
    "tables = ['A','B','C','D','E','F']\n",
    "for table in tqdm(tables):\n",
    "    data = []\n",
    "    _ = es.indices.create(index='yelp_'+table , ignore=400)\n",
    "    with open('C:/Users/UID/BIGDATA/Yelp Analysis/yelp_academic_dataset_business.pickle'.format(table), encoding='utf-8') as f:\n",
    "        i = 0\n",
    "        for line in f:\n",
    "            result=es.create(index='yelp_'+table,doc_type=table,id=i,body=json.loads(line))\n",
    "            i += 1\n",
    "            if i % 5000 == 0:\n",
    "    print(table, 'finished!!!')"
   ]
  },
  {
   "cell_type": "code",
   "execution_count": null,
   "metadata": {},
   "outputs": [],
   "source": []
  }
 ],
 "metadata": {
  "kernelspec": {
   "display_name": "Python 3",
   "language": "python",
   "name": "python3"
  },
  "language_info": {
   "codemirror_mode": {
    "name": "ipython",
    "version": 3
   },
   "file_extension": ".py",
   "mimetype": "text/x-python",
   "name": "python",
   "nbconvert_exporter": "python",
   "pygments_lexer": "ipython3",
   "version": "3.6.5"
  }
 },
 "nbformat": 4,
 "nbformat_minor": 2
}
